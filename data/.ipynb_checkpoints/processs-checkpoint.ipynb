{
 "cells": [
  {
   "cell_type": "code",
   "execution_count": null,
   "metadata": {
    "collapsed": true
   },
   "outputs": [],
   "source": [
    "!pip install geocoder\n",
    "!pip install lxml html5lib\n",
    "!pip install tqdm"
   ]
  },
  {
   "cell_type": "code",
   "execution_count": 2,
   "metadata": {
    "collapsed": false
   },
   "outputs": [],
   "source": [
    "import requests\n",
    "import pandas as pd\n",
    "import numpy as np\n",
    "import geocoder\n",
    "import re"
   ]
  },
  {
   "cell_type": "code",
   "execution_count": 3,
   "metadata": {
    "collapsed": true
   },
   "outputs": [],
   "source": [
    "from tqdm import tnrange, tqdm_notebook\n",
    "from tqdm import tqdm\n",
    "tqdm.pandas(desc=\"p\")\n"
   ]
  },
  {
   "cell_type": "code",
   "execution_count": 4,
   "metadata": {
    "collapsed": true
   },
   "outputs": [],
   "source": [
    "# cache place queries  latlng \n",
    "geo_cache = {}"
   ]
  },
  {
   "cell_type": "code",
   "execution_count": 58,
   "metadata": {
    "collapsed": false
   },
   "outputs": [],
   "source": [
    "# take a string, get a latlng, with this simple cache\n",
    "def get_lat_lng(x):\n",
    "    debug = False\n",
    "#   tqdm.write(\"Done task %i\" % i)\n",
    "    if debug: print('\\n'+x)\n",
    "    if x in geo_cache:\n",
    "        res = geo_cache[x]\n",
    "        return res\n",
    "    g = geocoder.google(x)\n",
    "    if g.latlng:\n",
    "        geo_cache[x] = g.latlng\n",
    "        res = g.latlng\n",
    "    else:\n",
    "        res = [pd.np.nan, pd.np.nan]\n",
    "    if debug: print(res)\n",
    "    return res\n",
    "\n",
    "# print(get_lat_lng('Brownstone Bagel, Brooklyn, NY'))"
   ]
  },
  {
   "cell_type": "markdown",
   "metadata": {},
   "source": [
    "### OSHA Data Part 1: XML of recent fatalities and catastrophe\n",
    "The recent stuff is in xml, the older stuff is csv, don't worry, they don't have the same fields either"
   ]
  },
  {
   "cell_type": "code",
   "execution_count": 6,
   "metadata": {
    "collapsed": true
   },
   "outputs": [],
   "source": [
    "# https://stackoverflow.com/a/10077069/83859\n",
    "from xml.etree import ElementTree\n",
    "from collections import defaultdict\n",
    "\n",
    "def etree_to_dict(t):\n",
    "    d = {t.tag: {} if t.attrib else None}\n",
    "    children = list(t)\n",
    "    if children:\n",
    "        dd = defaultdict(list)\n",
    "        for dc in map(etree_to_dict, children):\n",
    "            for k, v in dc.items():\n",
    "                dd[k].append(v)\n",
    "        d = {t.tag: {k:v[0] if len(v) == 1 else v for k, v in dd.items()}}\n",
    "    if t.attrib:\n",
    "        d[t.tag].update(('@' + k, v) for k, v in t.attrib.items())\n",
    "    if t.text:\n",
    "        text = t.text.strip()\n",
    "        if children or t.attrib:\n",
    "            if text:\n",
    "              d[t.tag]['#text'] = text\n",
    "        else:\n",
    "            d[t.tag] = text\n",
    "    return d"
   ]
  },
  {
   "cell_type": "code",
   "execution_count": 7,
   "metadata": {
    "collapsed": true
   },
   "outputs": [],
   "source": [
    "response = requests.get('https://www.osha.gov/dep/fatcat/fatcats.xml')\n",
    "# print(response)\n",
    "\n",
    "tree = ElementTree.fromstring(response.content)"
   ]
  },
  {
   "cell_type": "code",
   "execution_count": 8,
   "metadata": {
    "collapsed": true
   },
   "outputs": [],
   "source": [
    "pd.set_option('max_colwidth', 800)\n"
   ]
  },
  {
   "cell_type": "code",
   "execution_count": 10,
   "metadata": {
    "collapsed": true
   },
   "outputs": [],
   "source": [
    "# OK STARTING HERE AGAIN\n",
    "\n",
    "# this has 2016 and 2017, in xml\n",
    "osha_current = pd.DataFrame.from_records( etree_to_dict(tree)['events']['incident'] )\n",
    "# print(osha_current[:4].employer[3])\n",
    "# osha_current[:1]\n",
    "\n",
    "# just ny state for (mostly)\n",
    "# osha_current = osha_current[osha_current.employer.str.contains('NY')]\n",
    "# drop what we're not using"
   ]
  },
  {
   "cell_type": "code",
   "execution_count": null,
   "metadata": {
    "collapsed": true
   },
   "outputs": [],
   "source": [
    "# osha_current.drop(['fatcat', 'inspection', 'victim'], axis=1, inplace=True)"
   ]
  },
  {
   "cell_type": "code",
   "execution_count": 30,
   "metadata": {
    "collapsed": false
   },
   "outputs": [
    {
     "data": {
      "text/html": [
       "<div>\n",
       "<table border=\"1\" class=\"dataframe\">\n",
       "  <thead>\n",
       "    <tr style=\"text-align: right;\">\n",
       "      <th></th>\n",
       "      <th>date</th>\n",
       "      <th>description</th>\n",
       "      <th>employer</th>\n",
       "      <th>fatcat</th>\n",
       "      <th>inspection</th>\n",
       "      <th>victim</th>\n",
       "    </tr>\n",
       "  </thead>\n",
       "  <tbody>\n",
       "    <tr>\n",
       "      <th>569</th>\n",
       "      <td>2016-06-27</td>\n",
       "      <td>Worker died from hantavirus after being exposed to mouse droppings while cleaning cabins.</td>\n",
       "      <td>Marzano Mountain Retreat, Torreon, NM 87061</td>\n",
       "      <td>Fatality</td>\n",
       "      <td>1154167</td>\n",
       "      <td>Shawnee Romero</td>\n",
       "    </tr>\n",
       "    <tr>\n",
       "      <th>570</th>\n",
       "      <td>2016-05-24</td>\n",
       "      <td>Worker struck and killed by falling tree.</td>\n",
       "      <td>Raymond Trent dba Raymond Trent, Morganfield, KY 42437</td>\n",
       "      <td>Fatality</td>\n",
       "      <td>1186003.015</td>\n",
       "      <td>James Finwick</td>\n",
       "    </tr>\n",
       "    <tr>\n",
       "      <th>571</th>\n",
       "      <td>None</td>\n",
       "      <td>Worker died after being struck by forklift.</td>\n",
       "      <td>Genuine Parts Company, 30-03 Review Ave LONG ISLAND CITY  NY 11101</td>\n",
       "      <td>Fatality</td>\n",
       "      <td>1209887</td>\n",
       "      <td>None</td>\n",
       "    </tr>\n",
       "    <tr>\n",
       "      <th>572</th>\n",
       "      <td>None</td>\n",
       "      <td>Worker fatally crushed between tow truck and another vehicle.</td>\n",
       "      <td>Berkebile Auto Service 10 D Street JOHNSTOWN  PA 15906</td>\n",
       "      <td>Fatality</td>\n",
       "      <td>1197414</td>\n",
       "      <td>James Harr</td>\n",
       "    </tr>\n",
       "  </tbody>\n",
       "</table>\n",
       "</div>"
      ],
      "text/plain": [
       "           date  \\\n",
       "569  2016-06-27   \n",
       "570  2016-05-24   \n",
       "571        None   \n",
       "572        None   \n",
       "\n",
       "                                                                                   description  \\\n",
       "569  Worker died from hantavirus after being exposed to mouse droppings while cleaning cabins.   \n",
       "570                                                  Worker struck and killed by falling tree.   \n",
       "571                                                Worker died after being struck by forklift.   \n",
       "572                              Worker fatally crushed between tow truck and another vehicle.   \n",
       "\n",
       "                                                               employer  \\\n",
       "569                         Marzano Mountain Retreat, Torreon, NM 87061   \n",
       "570              Raymond Trent dba Raymond Trent, Morganfield, KY 42437   \n",
       "571  Genuine Parts Company, 30-03 Review Ave LONG ISLAND CITY  NY 11101   \n",
       "572              Berkebile Auto Service 10 D Street JOHNSTOWN  PA 15906   \n",
       "\n",
       "       fatcat   inspection          victim  \n",
       "569  Fatality      1154167  Shawnee Romero  \n",
       "570  Fatality  1186003.015   James Finwick  \n",
       "571  Fatality      1209887            None  \n",
       "572  Fatality      1197414      James Harr  "
      ]
     },
     "execution_count": 30,
     "metadata": {},
     "output_type": "execute_result"
    }
   ],
   "source": [
    "osha_current[-4:]"
   ]
  },
  {
   "cell_type": "code",
   "execution_count": 63,
   "metadata": {
    "collapsed": false
   },
   "outputs": [
    {
     "data": {
      "text/plain": [
       "[34.6875559, -106.3515895]"
      ]
     },
     "execution_count": 63,
     "metadata": {},
     "output_type": "execute_result"
    }
   ],
   "source": [
    "t1 = \"Berkebile Auto Service 10 D Street JOHNSTOWN PA 15906\" # no commas \n",
    "t2 =\"Marzano Mountain Retreat, Torreon, NM 87061\"\n",
    "t3 = \"Genuine Parts Company, 30-03 Review Ave LONG ISLAND CITY NY 11101\"\n",
    "\n",
    "# ','.join(t1.split(',')[1:]).strip() # no dice\n",
    "# ','.join(t2.split(',')[1:]).strip()\n",
    "# ','.join(t3.split(',')[1:]).strip()\n",
    "\n",
    "# get_lat_lng(t1) # has \n",
    "# get_lat_lng(t2) # has\n",
    "get_lat_lng(t2) # lacks\n",
    "# get_lat_lng(','.join(t3.split(',')[1:]).strip()) # has, lacks without dropping the business name\n",
    "\n",
    "# osha_current.apply(lambda row: row.employer.split(',')[-1].strip(), axis=1)\n",
    "\n",
    "# osha_current.apply(lambda row: row.employer, axis=1)"
   ]
  },
  {
   "cell_type": "code",
   "execution_count": null,
   "metadata": {
    "collapsed": true
   },
   "outputs": [],
   "source": [
    "\n",
    "def get_osha_current_loc(row): \n",
    "    place = row.employer\n",
    "    # try it with no processing first\n",
    "    loc = get_lat_lng(place)\n",
    "    if loc[0] is not pd.np.NaN:\n",
    "        return loc\n",
    "    # then try it dropping a possible business name, or whatever is before the first comma\n",
    "    if place.find(',') is not -1:\n",
    "        no_b_name = ','.join(place.split(',')[1:]).strip()\n",
    "        loc = get_lat_lng(no_b_name)\n",
    "        if loc[0] is not pd.np.NaN:\n",
    "            return loc        \n",
    "    m = re.search(\"\\d\", place)\n",
    "    # now drop everything before the first digit and try that\n",
    "    if m:\n",
    "        after_digit = place[m.start():]\n",
    "        loc = get_lat_lng(after_digit)\n",
    "        if loc[0] is not pd.np.NaN:\n",
    "            return loc  \n",
    "    # this should be NaN, NaN if we failed to find something, from the first one at least\n",
    "    return loc \n",
    "\n",
    "\n",
    "    # this is the one from the ny map, needs to be broader now\n",
    "    # just try it straight?\n",
    "    # actually XXX for deathmap, should use the [1:] method!\n",
    "#     return get_lat_lng(row.employer.split(',')[-1].strip())\n",
    "#     \"MHP Real Estate Services, 180 Maiden Lane NEW YO\".split(',')[-1].strip()\n",
    "# osha_current[lat]\n",
    "\n",
    "# get_osha_current_loc(\"Genuine Parts Company 30-03 Review Ave LONG ISLAND CITY NY 11101\")\n",
    "\n",
    "osha_current_loc = osha_current.progress_apply (lambda row: get_osha_current_loc(row),axis=1).apply(pd.Series)"
   ]
  },
  {
   "cell_type": "code",
   "execution_count": 80,
   "metadata": {
    "collapsed": false
   },
   "outputs": [
    {
     "name": "stdout",
     "output_type": "stream",
     "text": [
      "<class 'pandas.core.frame.DataFrame'>\n",
      "RangeIndex: 573 entries, 0 to 572\n",
      "Data columns (total 2 columns):\n",
      "0    561 non-null float64\n",
      "1    561 non-null float64\n",
      "dtypes: float64(2)\n",
      "memory usage: 9.0 KB\n"
     ]
    }
   ],
   "source": [
    "osha_current_loc.info()"
   ]
  },
  {
   "cell_type": "code",
   "execution_count": 81,
   "metadata": {
    "collapsed": false
   },
   "outputs": [
    {
     "data": {
      "text/html": [
       "<div>\n",
       "<table border=\"1\" class=\"dataframe\">\n",
       "  <thead>\n",
       "    <tr style=\"text-align: right;\">\n",
       "      <th></th>\n",
       "      <th>date</th>\n",
       "      <th>description</th>\n",
       "      <th>employer</th>\n",
       "      <th>fatcat</th>\n",
       "      <th>inspection</th>\n",
       "      <th>victim</th>\n",
       "      <th>lat</th>\n",
       "      <th>lng</th>\n",
       "    </tr>\n",
       "  </thead>\n",
       "  <tbody>\n",
       "    <tr>\n",
       "      <th>0</th>\n",
       "      <td>2017-04-28</td>\n",
       "      <td>A worker died after being caught between two vehicles.</td>\n",
       "      <td>PROWLER RECOVERY, INC., 8100 W. Broward Blvd. PLANTATION  FL 33324</td>\n",
       "      <td>Fatality</td>\n",
       "      <td>1229035.015</td>\n",
       "      <td>Francisco Canjura</td>\n",
       "      <td>26.122348</td>\n",
       "      <td>-80.258951</td>\n",
       "    </tr>\n",
       "  </tbody>\n",
       "</table>\n",
       "</div>"
      ],
      "text/plain": [
       "         date                                             description  \\\n",
       "0  2017-04-28  A worker died after being caught between two vehicles.   \n",
       "\n",
       "                                                             employer  \\\n",
       "0  PROWLER RECOVERY, INC., 8100 W. Broward Blvd. PLANTATION  FL 33324   \n",
       "\n",
       "     fatcat   inspection             victim        lat        lng  \n",
       "0  Fatality  1229035.015  Francisco Canjura  26.122348 -80.258951  "
      ]
     },
     "execution_count": 81,
     "metadata": {},
     "output_type": "execute_result"
    }
   ],
   "source": [
    "# osha_current_loc[osha_current_loc.duplicated(keep=False)]\n",
    "osha_current['lat'] = osha_current_loc[0]\n",
    "osha_current['lng'] = osha_current_loc[1]\n",
    "osha_current[:1]"
   ]
  },
  {
   "cell_type": "code",
   "execution_count": 82,
   "metadata": {
    "collapsed": false
   },
   "outputs": [
    {
     "data": {
      "text/html": [
       "<div>\n",
       "<table border=\"1\" class=\"dataframe\">\n",
       "  <thead>\n",
       "    <tr style=\"text-align: right;\">\n",
       "      <th></th>\n",
       "      <th>description</th>\n",
       "      <th>employer</th>\n",
       "      <th>fatcat</th>\n",
       "      <th>inspection</th>\n",
       "      <th>victim</th>\n",
       "      <th>lat</th>\n",
       "      <th>lng</th>\n",
       "    </tr>\n",
       "    <tr>\n",
       "      <th>date</th>\n",
       "      <th></th>\n",
       "      <th></th>\n",
       "      <th></th>\n",
       "      <th></th>\n",
       "      <th></th>\n",
       "      <th></th>\n",
       "      <th></th>\n",
       "    </tr>\n",
       "  </thead>\n",
       "  <tbody>\n",
       "    <tr>\n",
       "      <th>2016-05-24</th>\n",
       "      <td>Worker struck and killed by falling tree.</td>\n",
       "      <td>Raymond Trent dba Raymond Trent, Morganfield, KY 42437</td>\n",
       "      <td>Fatality</td>\n",
       "      <td>1186003.015</td>\n",
       "      <td>James Finwick</td>\n",
       "      <td>37.683378</td>\n",
       "      <td>-87.916691</td>\n",
       "    </tr>\n",
       "    <tr>\n",
       "      <th>2016-06-27</th>\n",
       "      <td>Worker died from hantavirus after being exposed to mouse droppings while cleaning cabins.</td>\n",
       "      <td>Marzano Mountain Retreat, Torreon, NM 87061</td>\n",
       "      <td>Fatality</td>\n",
       "      <td>1154167</td>\n",
       "      <td>Shawnee Romero</td>\n",
       "      <td>34.687556</td>\n",
       "      <td>-106.351590</td>\n",
       "    </tr>\n",
       "    <tr>\n",
       "      <th>2016-07-19</th>\n",
       "      <td>Worker killed in fall through stair hole.</td>\n",
       "      <td>Johni Semma DBA Johni Semma, West Bloomfield, MI 48322</td>\n",
       "      <td>Fatality</td>\n",
       "      <td>1165245.015</td>\n",
       "      <td>Derek Ketz</td>\n",
       "      <td>42.544013</td>\n",
       "      <td>-83.346878</td>\n",
       "    </tr>\n",
       "  </tbody>\n",
       "</table>\n",
       "</div>"
      ],
      "text/plain": [
       "                                                                                          description  \\\n",
       "date                                                                                                    \n",
       "2016-05-24                                                  Worker struck and killed by falling tree.   \n",
       "2016-06-27  Worker died from hantavirus after being exposed to mouse droppings while cleaning cabins.   \n",
       "2016-07-19                                                  Worker killed in fall through stair hole.   \n",
       "\n",
       "                                                          employer    fatcat  \\\n",
       "date                                                                           \n",
       "2016-05-24  Raymond Trent dba Raymond Trent, Morganfield, KY 42437  Fatality   \n",
       "2016-06-27             Marzano Mountain Retreat, Torreon, NM 87061  Fatality   \n",
       "2016-07-19  Johni Semma DBA Johni Semma, West Bloomfield, MI 48322  Fatality   \n",
       "\n",
       "             inspection          victim        lat         lng  \n",
       "date                                                            \n",
       "2016-05-24  1186003.015   James Finwick  37.683378  -87.916691  \n",
       "2016-06-27      1154167  Shawnee Romero  34.687556 -106.351590  \n",
       "2016-07-19  1165245.015      Derek Ketz  42.544013  -83.346878  "
      ]
     },
     "execution_count": 82,
     "metadata": {},
     "output_type": "execute_result"
    }
   ],
   "source": [
    "osha_current['date']= pd.to_datetime(osha_current['date'])\n",
    "osha_current = osha_current.set_index((osha_current.select_dtypes(include=[np.datetime64]).columns).tolist())\n",
    "osha_current.sort_index(inplace=True)\n",
    "osha_current[:3]\n",
    "# ok next combine that with the other osha stuff"
   ]
  },
  {
   "cell_type": "code",
   "execution_count": 83,
   "metadata": {
    "collapsed": false
   },
   "outputs": [
    {
     "data": {
      "text/html": [
       "<div>\n",
       "<table border=\"1\" class=\"dataframe\">\n",
       "  <thead>\n",
       "    <tr style=\"text-align: right;\">\n",
       "      <th></th>\n",
       "      <th>description</th>\n",
       "      <th>employer</th>\n",
       "      <th>fatcat</th>\n",
       "      <th>inspection</th>\n",
       "      <th>victim</th>\n",
       "      <th>lat</th>\n",
       "      <th>lng</th>\n",
       "    </tr>\n",
       "    <tr>\n",
       "      <th>date</th>\n",
       "      <th></th>\n",
       "      <th></th>\n",
       "      <th></th>\n",
       "      <th></th>\n",
       "      <th></th>\n",
       "      <th></th>\n",
       "      <th></th>\n",
       "    </tr>\n",
       "  </thead>\n",
       "  <tbody>\n",
       "    <tr>\n",
       "      <th>2017-04-28</th>\n",
       "      <td>A worker died after being caught between two vehicles.</td>\n",
       "      <td>PROWLER RECOVERY, INC., 8100 W. Broward Blvd. PLANTATION  FL 33324</td>\n",
       "      <td>Fatality</td>\n",
       "      <td>1229035.015</td>\n",
       "      <td>Francisco Canjura</td>\n",
       "      <td>26.122348</td>\n",
       "      <td>-80.258951</td>\n",
       "    </tr>\n",
       "    <tr>\n",
       "      <th>NaT</th>\n",
       "      <td>Worker died after being struck by forklift.</td>\n",
       "      <td>Genuine Parts Company, 30-03 Review Ave LONG ISLAND CITY  NY 11101</td>\n",
       "      <td>Fatality</td>\n",
       "      <td>1209887</td>\n",
       "      <td>None</td>\n",
       "      <td>40.736960</td>\n",
       "      <td>-73.938747</td>\n",
       "    </tr>\n",
       "    <tr>\n",
       "      <th>NaT</th>\n",
       "      <td>Worker fatally crushed between tow truck and another vehicle.</td>\n",
       "      <td>Berkebile Auto Service 10 D Street JOHNSTOWN  PA 15906</td>\n",
       "      <td>Fatality</td>\n",
       "      <td>1197414</td>\n",
       "      <td>James Harr</td>\n",
       "      <td>40.297675</td>\n",
       "      <td>-78.894835</td>\n",
       "    </tr>\n",
       "  </tbody>\n",
       "</table>\n",
       "</div>"
      ],
      "text/plain": [
       "                                                              description  \\\n",
       "date                                                                        \n",
       "2017-04-28         A worker died after being caught between two vehicles.   \n",
       "NaT                           Worker died after being struck by forklift.   \n",
       "NaT         Worker fatally crushed between tow truck and another vehicle.   \n",
       "\n",
       "                                                                      employer  \\\n",
       "date                                                                             \n",
       "2017-04-28  PROWLER RECOVERY, INC., 8100 W. Broward Blvd. PLANTATION  FL 33324   \n",
       "NaT         Genuine Parts Company, 30-03 Review Ave LONG ISLAND CITY  NY 11101   \n",
       "NaT                     Berkebile Auto Service 10 D Street JOHNSTOWN  PA 15906   \n",
       "\n",
       "              fatcat   inspection             victim        lat        lng  \n",
       "date                                                                        \n",
       "2017-04-28  Fatality  1229035.015  Francisco Canjura  26.122348 -80.258951  \n",
       "NaT         Fatality      1209887               None  40.736960 -73.938747  \n",
       "NaT         Fatality      1197414         James Harr  40.297675 -78.894835  "
      ]
     },
     "execution_count": 83,
     "metadata": {},
     "output_type": "execute_result"
    }
   ],
   "source": [
    "osha_current[-3:]\n",
    "\n",
    "# todo, standardize before dropping stuff"
   ]
  },
  {
   "cell_type": "markdown",
   "metadata": {
    "collapsed": true
   },
   "source": [
    "### OSHA Part 2, Archive CSVs 2015 and Before"
   ]
  },
  {
   "cell_type": "code",
   "execution_count": 84,
   "metadata": {
    "collapsed": false
   },
   "outputs": [
    {
     "name": "stderr",
     "output_type": "stream",
     "text": [
      "100%|██████████| 7/7 [00:03<00:00,  1.88it/s]\n"
     ]
    }
   ],
   "source": [
    "osha_archive_urls = [\n",
    "\"https://www.osha.gov/dep/fatcat/FatalitiesFY09.csv\",\n",
    "\"https://www.osha.gov/dep/fatcat/FatalitiesFY10.csv\",\n",
    "\"https://www.osha.gov/dep/fatcat/FatalitiesFY11.csv\",\n",
    "\"https://www.osha.gov/dep/fatcat/FatalitiesFY12.csv\",\n",
    "\"https://www.osha.gov/dep/fatcat/fy13_federal-state_summaries.csv\",\n",
    "\"https://www.osha.gov/dep/fatcat/fy14_federal-state_summaries.csv\",\n",
    "\"https://www.osha.gov/dep/fatcat/fy15_federal-state_summaries.csv\"]\n",
    "\n",
    "osha_archive = pd.DataFrame()\n",
    "for url in tqdm(osha_archive_urls):\n",
    "    df = pd.DataFrame.from_csv(url)\n",
    "#     print(df.info())\n",
    "    osha_archive = pd.concat([osha_archive, df])\n",
    "#     osha_current = pd.concat([osha_current, df])\n",
    "#     print(url)\n",
    "# all_osha.info()"
   ]
  },
  {
   "cell_type": "code",
   "execution_count": 85,
   "metadata": {
    "collapsed": false
   },
   "outputs": [
    {
     "data": {
      "text/html": [
       "<div>\n",
       "<table border=\"1\" class=\"dataframe\">\n",
       "  <thead>\n",
       "    <tr style=\"text-align: right;\">\n",
       "      <th></th>\n",
       "      <th>Company</th>\n",
       "      <th>Company, City, State, ZIP</th>\n",
       "      <th>Date of Incident</th>\n",
       "      <th>Fatality or Catastrophe</th>\n",
       "      <th>Inspection #</th>\n",
       "      <th>Preliminary Description of Incident</th>\n",
       "      <th>Summary Report Date</th>\n",
       "      <th>Unnamed: 4</th>\n",
       "      <th>Victim(s)</th>\n",
       "    </tr>\n",
       "  </thead>\n",
       "  <tbody>\n",
       "    <tr>\n",
       "      <th>FY 2009</th>\n",
       "      <td>L.B. Thompson Inc., Tampa, FL 33610</td>\n",
       "      <td>NaN</td>\n",
       "      <td>6/23/2009</td>\n",
       "      <td>NaN</td>\n",
       "      <td>NaN</td>\n",
       "      <td>Victim was inside a building bundling material and became ill, possible heat stroke.</td>\n",
       "      <td>7/24/2009</td>\n",
       "      <td>NaN</td>\n",
       "      <td>NaN</td>\n",
       "    </tr>\n",
       "  </tbody>\n",
       "</table>\n",
       "</div>"
      ],
      "text/plain": [
       "                                     Company Company, City, State, ZIP  \\\n",
       "FY 2009  L.B. Thompson Inc., Tampa, FL 33610                       NaN   \n",
       "\n",
       "        Date of Incident Fatality or Catastrophe Inspection #  \\\n",
       "FY 2009        6/23/2009                     NaN          NaN   \n",
       "\n",
       "                                                          Preliminary Description of Incident  \\\n",
       "FY 2009  Victim was inside a building bundling material and became ill, possible heat stroke.   \n",
       "\n",
       "        Summary Report Date Unnamed: 4 Victim(s)  \n",
       "FY 2009           7/24/2009        NaN       NaN  "
      ]
     },
     "execution_count": 85,
     "metadata": {},
     "output_type": "execute_result"
    }
   ],
   "source": [
    "# if a row is totally blank, drop it\n",
    "osha_archive.dropna(axis=1, how=\"all\", inplace=True)\n",
    "osha_archive[:1]"
   ]
  },
  {
   "cell_type": "raw",
   "metadata": {},
   "source": []
  },
  {
   "cell_type": "code",
   "execution_count": 93,
   "metadata": {
    "collapsed": false
   },
   "outputs": [],
   "source": [
    "# make date it's own thing, but some are 'FY 09', not actual dates, also there's already Date of Incident but many are blank\n",
    "osha_archive.reset_index(level=0,  inplace=True)\n",
    "osha_archive['date'] = osha_archive['index']\n",
    "osha_archive.drop('index', axis=1, inplace=True)"
   ]
  },
  {
   "cell_type": "code",
   "execution_count": 107,
   "metadata": {
    "collapsed": false
   },
   "outputs": [
    {
     "name": "stdout",
     "output_type": "stream",
     "text": [
      "<class 'pandas.core.frame.DataFrame'>\n",
      "RangeIndex: 7385 entries, 0 to 7384\n",
      "Data columns (total 10 columns):\n",
      "Company                                2524 non-null object\n",
      "Company, City, State, ZIP              3734 non-null object\n",
      "Date of Incident                       3618 non-null object\n",
      "Fatality or Catastrophe                3734 non-null object\n",
      "Inspection #                           862 non-null object\n",
      "Preliminary Description of Incident    7352 non-null object\n",
      "Summary Report Date                    3618 non-null object\n",
      "Unnamed: 4                             1094 non-null object\n",
      "Victim(s)                              520 non-null object\n",
      "date                                   7352 non-null object\n",
      "dtypes: object(10)\n",
      "memory usage: 577.0+ KB\n"
     ]
    },
    {
     "data": {
      "text/plain": [
       "0       NaN\n",
       "1       NaN\n",
       "2       NaN\n",
       "3       NaN\n",
       "4       NaN\n",
       "5       NaN\n",
       "6       NaN\n",
       "7       NaN\n",
       "8       NaN\n",
       "9       NaN\n",
       "10      NaN\n",
       "11      NaN\n",
       "12      NaN\n",
       "13      NaN\n",
       "14      NaN\n",
       "15      NaN\n",
       "16      NaN\n",
       "17      NaN\n",
       "18      NaN\n",
       "19      NaN\n",
       "20      NaN\n",
       "21      NaN\n",
       "22      NaN\n",
       "23      NaN\n",
       "24      NaN\n",
       "25      NaN\n",
       "26      NaN\n",
       "27      NaN\n",
       "28      NaN\n",
       "29      NaN\n",
       "       ... \n",
       "7355    NaN\n",
       "7356    NaN\n",
       "7357    NaN\n",
       "7358    NaN\n",
       "7359    NaN\n",
       "7360    NaN\n",
       "7361    NaN\n",
       "7362    NaN\n",
       "7363    NaN\n",
       "7364    NaN\n",
       "7365    NaN\n",
       "7366    NaN\n",
       "7367    NaN\n",
       "7368    NaN\n",
       "7369    NaN\n",
       "7370    NaN\n",
       "7371    NaN\n",
       "7372    NaN\n",
       "7373    NaN\n",
       "7374    NaN\n",
       "7375    NaN\n",
       "7376    NaN\n",
       "7377    NaN\n",
       "7378    NaN\n",
       "7379    NaN\n",
       "7380    NaN\n",
       "7381    NaN\n",
       "7382    NaN\n",
       "7383    NaN\n",
       "7384    NaN\n",
       "Name: Unnamed: 4, dtype: object"
      ]
     },
     "execution_count": 107,
     "metadata": {},
     "output_type": "execute_result"
    }
   ],
   "source": [
    "# TODO need fill this with date, and then drop date, and then rename this date, \n",
    "osha_archive['Date of Incident'] \n",
    "#TODO need to include this in na fill for company/place, it has addresses.\n",
    "osha_archive['Unnamed: 4'] "
   ]
  },
  {
   "cell_type": "code",
   "execution_count": null,
   "metadata": {
    "collapsed": false
   },
   "outputs": [],
   "source": [
    "# fill place with either company or company city state field\n",
    "# because it could be either\n",
    "osha_archive['place'] = osha_archive['Company'].fillna(osha_archive['Company, City, State, ZIP'])\n",
    "# drop ones we don't have place field for\n",
    "osha_archive = osha_archive.dropna(axis=0, subset=['place'])\n",
    "\n",
    "# osha_archive[osha_archive.isnull()['Date of Incident'] ]\n",
    "# osha_archive.info()\n",
    "\n",
    "osha_archive['Date of Incident'] = osha_archive['Date of Incident'].fillna( osha_archive['index'] )\n"
   ]
  },
  {
   "cell_type": "code",
   "execution_count": null,
   "metadata": {
    "collapsed": false
   },
   "outputs": [],
   "source": [
    "\n",
    "def get_osha_archive_loc(row):\n",
    "    return get_lat_lng(row['place'])    \n",
    "\n",
    "osha_archive_loc = osha_archive.progress_apply (lambda row: get_osha_archive_loc(row),axis=1).apply(pd.Series)\n"
   ]
  },
  {
   "cell_type": "code",
   "execution_count": null,
   "metadata": {
    "collapsed": false
   },
   "outputs": [],
   "source": [
    "# osha_archive_loc.apply(pd.Series)\n",
    "osha_archive['lat']=osha_archive_loc[0]\n",
    "osha_archive['lng']=osha_archive_loc[1]\n",
    "\n",
    "osha_archive['Date of Incident']= pd.to_datetime(osha_archive['Date of Incident'])\n",
    "osha_archive = osha_archive.set_index((osha_archive.select_dtypes(include=[np.datetime64]).columns).tolist())\n",
    "osha_archive.sort_index(inplace=True)\n",
    "# untried, Weds XXX\n",
    "osha_archive.index.rename('date', inplace=True)\n",
    "\n"
   ]
  },
  {
   "cell_type": "code",
   "execution_count": null,
   "metadata": {
    "collapsed": false
   },
   "outputs": [],
   "source": [
    "osha_archive['Preliminary Description of Incident'].fillna('', inplace=True)\n",
    "osha_archive['Company'].fillna('', inplace=True)\n",
    "osha_archive.info()\n",
    "# same for Company, and apply it, so no error below\n"
   ]
  },
  {
   "cell_type": "code",
   "execution_count": null,
   "metadata": {
    "collapsed": false
   },
   "outputs": [],
   "source": [
    "# todo add descrip\n",
    "# just change name to description\n",
    "osha_archive['description'] = osha_archive['Preliminary Description of Incident']\n",
    "\n",
    "osha_archive[:1]    "
   ]
  },
  {
   "cell_type": "code",
   "execution_count": null,
   "metadata": {
    "collapsed": false
   },
   "outputs": [],
   "source": [
    "# osha_archive.columns\n",
    "# TODO fix, keep some,  'Company', 'place'\n",
    "osha_archive.drop(['index', 'Company, City, State, ZIP',\n",
    "       'Fatality or Catastrophe', 'Inspection #',\n",
    "       'Preliminary Description of Incident', 'Summary Report Date',\n",
    "       'Unnamed: 4', 'Victim(s)'], axis=1, inplace=True)\n",
    "osha_archive[:1]    "
   ]
  },
  {
   "cell_type": "code",
   "execution_count": null,
   "metadata": {
    "collapsed": false
   },
   "outputs": [],
   "source": [
    "osha_archive[:10]\n",
    "# osha_archive.columns = ['date', 'lat', 'lng']"
   ]
  },
  {
   "cell_type": "code",
   "execution_count": null,
   "metadata": {
    "collapsed": false
   },
   "outputs": [],
   "source": [
    "\n",
    "# osha_archive['kind'] = 'w'\n",
    "osha_archive.dropna(how='any', inplace=True)\n",
    "osha_archive.info()"
   ]
  },
  {
   "cell_type": "code",
   "execution_count": null,
   "metadata": {
    "collapsed": false
   },
   "outputs": [],
   "source": [
    "# combine all the osha records, before splitting by time below\n",
    "osha_all = pd.concat([osha_archive, osha_current])\n",
    "# there are a couple with problems\n",
    "# ?\n",
    "# osha_all.dropna(axis=0, how='any', inplace=True)"
   ]
  },
  {
   "cell_type": "code",
   "execution_count": null,
   "metadata": {
    "collapsed": false
   },
   "outputs": [],
   "source": [
    "osha_all.info()\n",
    "osha_all[:3]\n",
    "# for the end result\n",
    "# dfs_2015_2016.append(osha_all['2015':'2016'])\n",
    "# dfs_all.append(osha_all)"
   ]
  },
  {
   "cell_type": "markdown",
   "metadata": {},
   "source": [
    "### Combine Everything - REDO\n"
   ]
  },
  {
   "cell_type": "code",
   "execution_count": null,
   "metadata": {
    "collapsed": false
   },
   "outputs": [],
   "source": [
    "# combine them!\n",
    "# deaths_all_years = pd.concat([vehicle_deaths, crime_deaths, ny_by_police, osha_all], ignore_index=True)\n",
    "recent_deaths = pd.concat(dfs_2015_2016)\n",
    "# recent_deaths.info()\n",
    "# print('z')\n",
    "# don't drop if we lack description\n",
    "\n",
    "recent_deaths.dropna(axis=0, inplace=True, subset=['kind', 'lat', 'lng'])"
   ]
  },
  {
   "cell_type": "code",
   "execution_count": null,
   "metadata": {
    "collapsed": true
   },
   "outputs": [],
   "source": [
    "all_deaths = pd.concat(dfs_all)\n",
    "# recent_deaths.info()\n",
    "# print('z')\n",
    "# don't drop if we lack description\n",
    "all_deaths.dropna(axis=0, inplace=True, subset=['kind', 'lat', 'lng'])"
   ]
  },
  {
   "cell_type": "code",
   "execution_count": null,
   "metadata": {
    "collapsed": false
   },
   "outputs": [],
   "source": [
    "recent_deaths.sort_index(axis=0, inplace=True)\n",
    "all_deaths.sort_index(axis=0, inplace=True)"
   ]
  },
  {
   "cell_type": "code",
   "execution_count": null,
   "metadata": {
    "collapsed": false
   },
   "outputs": [],
   "source": [
    "all_deaths.info() #.isnull().sum()"
   ]
  },
  {
   "cell_type": "code",
   "execution_count": null,
   "metadata": {
    "collapsed": true
   },
   "outputs": [],
   "source": [
    "recent_deaths.to_csv('recent_deaths.csv')"
   ]
  },
  {
   "cell_type": "code",
   "execution_count": null,
   "metadata": {
    "collapsed": true
   },
   "outputs": [],
   "source": [
    "all_deaths.to_csv('all_deaths.csv')"
   ]
  },
  {
   "cell_type": "code",
   "execution_count": null,
   "metadata": {
    "collapsed": false
   },
   "outputs": [],
   "source": [
    "# deaths.columns = ['d', 'k', 'lat', 'lng' ]\n",
    "# deaths.to_json(\"deaths.json\", orient=\"records\")"
   ]
  },
  {
   "cell_type": "code",
   "execution_count": null,
   "metadata": {
    "collapsed": false
   },
   "outputs": [],
   "source": [
    "# deaths.info()"
   ]
  },
  {
   "cell_type": "code",
   "execution_count": null,
   "metadata": {
    "collapsed": true
   },
   "outputs": [],
   "source": [
    "# deaths.lat.value_counts()"
   ]
  },
  {
   "cell_type": "code",
   "execution_count": null,
   "metadata": {
    "collapsed": true
   },
   "outputs": [],
   "source": []
  }
 ],
 "metadata": {
  "kernelspec": {
   "display_name": "Python 3",
   "language": "python",
   "name": "python3"
  },
  "language_info": {
   "codemirror_mode": {
    "name": "ipython",
    "version": 3
   },
   "file_extension": ".py",
   "mimetype": "text/x-python",
   "name": "python",
   "nbconvert_exporter": "python",
   "pygments_lexer": "ipython3",
   "version": "3.5.2"
  }
 },
 "nbformat": 4,
 "nbformat_minor": 2
}
